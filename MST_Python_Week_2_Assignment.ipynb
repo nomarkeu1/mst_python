{
  "nbformat": 4,
  "nbformat_minor": 0,
  "metadata": {
    "colab": {
      "provenance": []
    },
    "kernelspec": {
      "name": "python3",
      "display_name": "Python 3"
    },
    "language_info": {
      "name": "python"
    }
  },
  "cells": [
    {
      "cell_type": "markdown",
      "source": [
        "1. Write an interactive Python Program to implement following “Guess Game”\n",
        "i. Think of a number between 1 and 10 and store it in a variable called\n",
        "\"secretNumber\".\n",
        "ii. Ask the user to enter a number between 1 and 10 and store it in a variable called\n",
        "\"guess\".\n",
        "iii. Use control statements (if-else) to check if the guess is correct, higher, or lower\n",
        "than the secret number.\n",
        "iv. Display appropriate messages to the user based on their guess:\n",
        "• If the guess is correct, display \"Congratulations! You guessed the number\n",
        "correctly!\"\n",
        "• If the guess is higher than the secret number, display \"Too high! Try\n",
        "again.\"\n",
        "• If the guess is lower than the secret number, display \"Too low! Try again.\"\n",
        "v. Allow the user to keep guessing until they guess the correct number."
      ],
      "metadata": {
        "id": "6dCFiwJX8-e9"
      }
    },
    {
      "cell_type": "code",
      "source": [
        "from random import randrange\n",
        "secretNumber = randrange(10)\n",
        "guess = int(input(\"Please enter a guess between 1 and 10: \"))\n",
        "def guessgame(secretNumber,guess):\n",
        "  if guess == secretNumber:\n",
        "    print(\"Congratulations! You guessed the number correctly!\")\n",
        "  elif guess>secretNumber:\n",
        "    guess = int(input(\"Too high! Try again. : \"))\n",
        "    guessgame(secretNumber,guess)\n",
        "  elif guess<secretNumber:\n",
        "    guess = int(input(\"Too low! Try again. : \"))\n",
        "    guessgame(secretNumber,guess)\n",
        "guessgame(secretNumber,guess)"
      ],
      "metadata": {
        "colab": {
          "base_uri": "https://localhost:8080/"
        },
        "id": "aslMO2iX8_zt",
        "outputId": "e77d41e6-b658-4e02-fa03-b10b97f5f91c"
      },
      "execution_count": 7,
      "outputs": [
        {
          "output_type": "stream",
          "name": "stdout",
          "text": [
            "Please enter a guess between 1 and 10: 1\n",
            "Too low! Try again. : 2\n",
            "Too low! Try again. : 3\n",
            "Too low! Try again. : 4\n",
            "Too low! Try again. : 6\n",
            "Too low! Try again. : 8\n",
            "Congratulations! You guessed the number correctly!\n"
          ]
        }
      ]
    },
    {
      "cell_type": "markdown",
      "source": [
        "2. Write a program to find and print the Factorial of this number. The Factorial of a positive\n",
        "integer N refers to the product of all number in the range from 1 to N."
      ],
      "metadata": {
        "id": "Vm-EmOnD-t4l"
      }
    },
    {
      "cell_type": "code",
      "source": [
        "def factorial(n):\n",
        "  if n==0:\n",
        "    return 1\n",
        "  elif n==1:\n",
        "    return 1\n",
        "  return factorial(n-1)*n\n",
        "print(factorial(5))"
      ],
      "metadata": {
        "colab": {
          "base_uri": "https://localhost:8080/"
        },
        "id": "UIeZlTYf-wsi",
        "outputId": "fbd46c76-77a6-4525-e13c-f19c6aa1745e"
      },
      "execution_count": 15,
      "outputs": [
        {
          "output_type": "stream",
          "name": "stdout",
          "text": [
            "120\n"
          ]
        }
      ]
    },
    {
      "cell_type": "markdown",
      "source": [
        "3. • Roy wants to change his profile picture on Facebook. Now Facebook has some\n",
        "restriction over the dimension of picture that we can upload.\n",
        "Minimum dimension of the picture can be L x L, where L is the length of the side\n",
        "of square. Now Roy has N photos of various dimensions.\n",
        "Dimension of a photo is denoted as W x H\n",
        "where W - width of the photo and H - Height of the photo\n",
        "• When any photo is uploaded following events may occur:\n",
        "[1] If any of the width or height is less than L, user is prompted to upload another\n",
        "one. Print \"UPLOAD ANOTHER\" in this case.\n",
        "[2] If width and height, both are large enough and\n",
        "(a) if the photo is already square then it is accepted. Print \"ACCEPTED\" in this\n",
        "case.\n",
        "(b) else user is prompted to crop it. Print \"CROP IT\" in this case.\n",
        "Given L, N, W and H as input, write a program to print appropriate text as output."
      ],
      "metadata": {
        "id": "DlikTrNW_p7J"
      }
    },
    {
      "cell_type": "code",
      "source": [
        "L = int(input(\"Please enter the minium length: \"))\n",
        "W = int(input(\"Please enter the width of the photo: \"))\n",
        "H = int(input(\"Please enter the height of the photo: \"))\n",
        "if H<L or W<L:\n",
        "  print(\"Upload Another\")\n",
        "elif H==W:\n",
        "  print(\"Accepted\")\n",
        "else:\n",
        "  print(\"Crop it\")"
      ],
      "metadata": {
        "colab": {
          "base_uri": "https://localhost:8080/"
        },
        "id": "CPSIyhju_s__",
        "outputId": "557c7fc4-5d07-4ed7-93ee-7e6871b36ac3"
      },
      "execution_count": 16,
      "outputs": [
        {
          "output_type": "stream",
          "name": "stdout",
          "text": [
            "Please enter the minium length: 3\n",
            "Please enter the width of the photo: 4\n",
            "Please enter the height of the photo: 5\n",
            "Crop it\n"
          ]
        }
      ]
    },
    {
      "cell_type": "code",
      "source": [],
      "metadata": {
        "id": "bmhOhVxw__vp"
      },
      "execution_count": null,
      "outputs": []
    }
  ]
}