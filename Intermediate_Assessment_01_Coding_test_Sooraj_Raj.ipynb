{
  "nbformat": 4,
  "nbformat_minor": 0,
  "metadata": {
    "colab": {
      "provenance": []
    },
    "kernelspec": {
      "name": "python3",
      "display_name": "Python 3"
    },
    "language_info": {
      "name": "python"
    }
  },
  "cells": [
    {
      "cell_type": "code",
      "execution_count": 3,
      "metadata": {
        "colab": {
          "base_uri": "https://localhost:8080/"
        },
        "id": "BZ9HF9bydsHc",
        "outputId": "d1fc93d2-dc55-46cd-ea95-5346fd04e7c1"
      },
      "outputs": [
        {
          "output_type": "stream",
          "name": "stdout",
          "text": [
            "Please enter a word: computer\n",
            "not palindrome\n"
          ]
        }
      ],
      "source": [
        "#1. Write a python program to check if the entered string is palindrome or not.\n",
        "word = input(\"Please enter a word: \")\n",
        "word_r = \"\"\n",
        "for i in word[::-1]:\n",
        "  word_r += i\n",
        "if word==word_r:\n",
        "  print(\"palindrome\")\n",
        "else:\n",
        "  print(\"not palindrome\")"
      ]
    },
    {
      "cell_type": "code",
      "source": [
        "#2. Write a python program to check if the given number is divisible by 9\n",
        "number = int(input(\"Please enter a number: \"))\n",
        "if number%9==0:\n",
        "  print(\"divisible by 9\")\n",
        "else:\n",
        "  print(\"not divisible by 9\")"
      ],
      "metadata": {
        "colab": {
          "base_uri": "https://localhost:8080/"
        },
        "id": "hjQ26oh4eQkJ",
        "outputId": "1a70c0c6-6da4-439a-ca7d-8a58cd6944ef"
      },
      "execution_count": 6,
      "outputs": [
        {
          "output_type": "stream",
          "name": "stdout",
          "text": [
            "Please enter a number: 16\n",
            "not divisible by 9\n"
          ]
        }
      ]
    },
    {
      "cell_type": "code",
      "source": [
        "#3. Write a python program to print odd numbers between 300 and 500\n",
        "for i in range(301,500,2):\n",
        "  print(i)"
      ],
      "metadata": {
        "colab": {
          "base_uri": "https://localhost:8080/"
        },
        "id": "ndtaYVize_DB",
        "outputId": "6d801c16-bd54-428d-9d52-4ec360908114"
      },
      "execution_count": 12,
      "outputs": [
        {
          "output_type": "stream",
          "name": "stdout",
          "text": [
            "301\n",
            "303\n",
            "305\n",
            "307\n",
            "309\n",
            "311\n",
            "313\n",
            "315\n",
            "317\n",
            "319\n",
            "321\n",
            "323\n",
            "325\n",
            "327\n",
            "329\n",
            "331\n",
            "333\n",
            "335\n",
            "337\n",
            "339\n",
            "341\n",
            "343\n",
            "345\n",
            "347\n",
            "349\n",
            "351\n",
            "353\n",
            "355\n",
            "357\n",
            "359\n",
            "361\n",
            "363\n",
            "365\n",
            "367\n",
            "369\n",
            "371\n",
            "373\n",
            "375\n",
            "377\n",
            "379\n",
            "381\n",
            "383\n",
            "385\n",
            "387\n",
            "389\n",
            "391\n",
            "393\n",
            "395\n",
            "397\n",
            "399\n",
            "401\n",
            "403\n",
            "405\n",
            "407\n",
            "409\n",
            "411\n",
            "413\n",
            "415\n",
            "417\n",
            "419\n",
            "421\n",
            "423\n",
            "425\n",
            "427\n",
            "429\n",
            "431\n",
            "433\n",
            "435\n",
            "437\n",
            "439\n",
            "441\n",
            "443\n",
            "445\n",
            "447\n",
            "449\n",
            "451\n",
            "453\n",
            "455\n",
            "457\n",
            "459\n",
            "461\n",
            "463\n",
            "465\n",
            "467\n",
            "469\n",
            "471\n",
            "473\n",
            "475\n",
            "477\n",
            "479\n",
            "481\n",
            "483\n",
            "485\n",
            "487\n",
            "489\n",
            "491\n",
            "493\n",
            "495\n",
            "497\n",
            "499\n"
          ]
        }
      ]
    },
    {
      "cell_type": "code",
      "source": [
        "#4. Get two numbers from user and print their sum, difference, product and quotient after division\n",
        "num1 = int(input(\"Please enter first number: \"))\n",
        "num2 = int(input(\"Please enter second number: \"))\n",
        "print(\"Sum = \", num1+num2)\n",
        "print(\"Difference = \",num1-num2)\n",
        "print(\"Product = \", num1*num2)\n",
        "print(\"Quotient = \", num1%num2)"
      ],
      "metadata": {
        "colab": {
          "base_uri": "https://localhost:8080/"
        },
        "id": "zDadB_J_fjjO",
        "outputId": "bb753097-5b72-4525-f6c4-9568121e04a9"
      },
      "execution_count": 13,
      "outputs": [
        {
          "output_type": "stream",
          "name": "stdout",
          "text": [
            "Please enter first number: 4\n",
            "Please enter second number: 2\n",
            "Sum =  6\n",
            "Difference =  2\n",
            "Product =  8\n",
            "Quotient =  0\n"
          ]
        }
      ]
    },
    {
      "cell_type": "code",
      "source": [
        "#5. Write a python function to find the product of 2 numbers.\n",
        "def product(num1,num2):\n",
        "  return num1*num2"
      ],
      "metadata": {
        "id": "oSoPdnqngEYY"
      },
      "execution_count": 14,
      "outputs": []
    },
    {
      "cell_type": "code",
      "source": [
        "product(5,2)"
      ],
      "metadata": {
        "colab": {
          "base_uri": "https://localhost:8080/"
        },
        "id": "D10XBBuDgSU0",
        "outputId": "d715402a-ac01-4a2f-ec51-3d0ccd55738a"
      },
      "execution_count": 15,
      "outputs": [
        {
          "output_type": "execute_result",
          "data": {
            "text/plain": [
              "10"
            ]
          },
          "metadata": {},
          "execution_count": 15
        }
      ]
    }
  ]
}