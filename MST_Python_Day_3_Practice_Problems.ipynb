{
  "nbformat": 4,
  "nbformat_minor": 0,
  "metadata": {
    "colab": {
      "provenance": []
    },
    "kernelspec": {
      "name": "python3",
      "display_name": "Python 3"
    },
    "language_info": {
      "name": "python"
    }
  },
  "cells": [
    {
      "cell_type": "markdown",
      "source": [
        "1. Given the participants' score sheet for your University Sports Day, you are required to\n",
        "find the runner-up score. You are given scores. Store them in a list and find the score of\n",
        "the runner-up. (Create an array of scores and print the runner up score)"
      ],
      "metadata": {
        "id": "MBDA5E7s5FCa"
      }
    },
    {
      "cell_type": "code",
      "source": [
        "def runnerup(scoresheet):\n",
        "  scoresheet.sort()\n",
        "  return scoresheet[-2]"
      ],
      "metadata": {
        "id": "S5EnFotN5IjA"
      },
      "execution_count": 1,
      "outputs": []
    },
    {
      "cell_type": "code",
      "source": [
        "scores = [66,45,77,90,34,99,33,32]\n",
        "print(runnerup(scores))"
      ],
      "metadata": {
        "colab": {
          "base_uri": "https://localhost:8080/"
        },
        "id": "AU1FUEk-5Vvj",
        "outputId": "16a941fd-03e3-4130-c703-aacfbe870ece"
      },
      "execution_count": 2,
      "outputs": [
        {
          "output_type": "stream",
          "name": "stdout",
          "text": [
            "90\n"
          ]
        }
      ]
    },
    {
      "cell_type": "markdown",
      "source": [
        "2. A dictionary is given D={‘John’ : [25,32,43],’Peter’:[87,55,96],’Ram’:[58,55,43],’Meena’:[63,79,85]}\n",
        "Get a name from user if the name in the dictionary change the values corresponding to\n",
        "that user to [88,77,99] and print the dictionary. Else print ‘Name not found’."
      ],
      "metadata": {
        "id": "IoDC_fBn5kci"
      }
    },
    {
      "cell_type": "markdown",
      "source": [],
      "metadata": {
        "id": "XMO4TKpE521u"
      }
    },
    {
      "cell_type": "code",
      "source": [
        "user_dict = {'John' : [25,32,43],'Peter':[87,55,96],'Ram':[58,55,43],'Meena':[63,79,85]}\n",
        "user_name = input(\"Please enter the user's name: \")\n",
        "if user_name in user_dict:\n",
        "  user_dict[user_name] = [88,77,99]\n",
        "  print(user_dict)\n",
        "else:\n",
        "  print(\"Name not found\")"
      ],
      "metadata": {
        "colab": {
          "base_uri": "https://localhost:8080/"
        },
        "id": "pVu3cvUa5o6D",
        "outputId": "2042b916-3393-4115-9dfc-d44015c284e4"
      },
      "execution_count": 12,
      "outputs": [
        {
          "output_type": "stream",
          "name": "stdout",
          "text": [
            "Please enter the user's name: Ram\n",
            "{'John': [25, 32, 43], 'Peter': [87, 55, 96], 'Ram': [88, 77, 99], 'Meena': [63, 79, 85]}\n"
          ]
        }
      ]
    },
    {
      "cell_type": "markdown",
      "source": [
        "3. Ticket Price Calculator:\n",
        "I. Ask the user to enter their age.\n",
        "II. Use control statements (if-elif-else) to calculate the ticket price based on the\n",
        "following conditions:\n",
        "a. If the age is below 5, the ticket price is free.\n",
        "b. If the age is between 5 and 12 (inclusive), the ticket price is Rs.10.\n",
        "c. If the age is above 12, the ticket price is Rs.50.\n",
        "d. If the age is above 60, the ticket price is free.\n",
        "e. If the gender is female, the ticket price is 50% of the applicable rates.\n",
        "III. Display the ticket price to the use"
      ],
      "metadata": {
        "id": "wPXQFSY655aR"
      }
    },
    {
      "cell_type": "code",
      "source": [
        "age = int(input(\"Please enter the age of the user: \"))\n",
        "gender = input(\"Please enter the gender of the user (f/m): \")\n",
        "ticketprice = 0\n",
        "if age<5:\n",
        "  ticketprice= 0\n",
        "elif 5<=age<=12:\n",
        "  ticketprice = 10\n",
        "elif age>12:\n",
        "  ticketprice = 50\n",
        "if age>60:\n",
        "  ticketprice= 0\n",
        "if gender == 'f':\n",
        "  ticketprice = ticketprice/2\n",
        "if ticketprice ==0:\n",
        "  print(\"Ticket price is Free\")\n",
        "else:\n",
        "  print(\"Ticket price = \", ticketprice)\n"
      ],
      "metadata": {
        "colab": {
          "base_uri": "https://localhost:8080/"
        },
        "id": "2TiQaOmH6JNu",
        "outputId": "9e4910d6-5f52-47c3-82fb-4dce1151cebb"
      },
      "execution_count": 6,
      "outputs": [
        {
          "output_type": "stream",
          "name": "stdout",
          "text": [
            "Please enter the age of the user: 11\n",
            "Please enter the gender of the user (f/m): f\n",
            "Ticket price =  5.0\n"
          ]
        }
      ]
    }
  ]
}